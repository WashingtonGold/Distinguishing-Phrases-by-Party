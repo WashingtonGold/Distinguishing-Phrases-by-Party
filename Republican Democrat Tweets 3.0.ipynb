{
 "cells": [
  {
   "cell_type": "code",
   "execution_count": 1,
   "metadata": {},
   "outputs": [],
   "source": [
    "import pandas as pd # data processing, CSV file I/O (e.g. pd.read_csv)\n",
    "\n",
    "from nltk.tokenize.casual import TweetTokenizer\n",
    "\n",
    "from sklearn.model_selection import train_test_split\n",
    "from sklearn.pipeline import Pipeline\n",
    "from sklearn.feature_extraction.text import TfidfVectorizer\n",
    "from sklearn.naive_bayes import MultinomialNB\n",
    "from sklearn.metrics import accuracy_score\n",
    "\n",
    "# initialize tokenizer\n",
    "tokenizer = TweetTokenizer(reduce_len=True)"
   ]
  },
  {
   "cell_type": "code",
   "execution_count": 2,
   "metadata": {},
   "outputs": [],
   "source": [
    "all_tweets = pd.read_csv(r'C:\\Users\\Ye-An\\Desktop\\Datasets\\ExtractedTweets.csv')"
   ]
  },
  {
   "cell_type": "code",
   "execution_count": 3,
   "metadata": {},
   "outputs": [],
   "source": [
    "tweeters = all_tweets.iloc[:,:2].drop_duplicates()\n",
    "handles_train, handles_test = train_test_split(tweeters.Handle, stratify=tweeters.Party, test_size=0.2, random_state=0)\n",
    "train = all_tweets[all_tweets.Handle.isin(handles_train)].reset_index().drop('index', axis=1)\n",
    "test = all_tweets[all_tweets.Handle.isin(handles_test)].reset_index().drop('index', axis=1)"
   ]
  },
  {
   "cell_type": "code",
   "execution_count": 4,
   "metadata": {},
   "outputs": [],
   "source": [
    "nb_pipeline = Pipeline([\n",
    "    ('vectorize', TfidfVectorizer(tokenizer=tokenizer.tokenize)),\n",
    "    ('classifier', MultinomialNB())\n",
    "])"
   ]
  },
  {
   "cell_type": "code",
   "execution_count": 5,
   "metadata": {},
   "outputs": [
    {
     "data": {
      "text/plain": [
       "Pipeline(memory=None,\n",
       "     steps=[('vectorize', TfidfVectorizer(analyzer='word', binary=False, decode_error='strict',\n",
       "        dtype=<class 'numpy.float64'>, encoding='utf-8', input='content',\n",
       "        lowercase=True, max_df=1.0, max_features=None, min_df=1,\n",
       "        ngram_range=(1, 1), norm='l2', preprocessor=None, smooth_idf=T...True, vocabulary=None)), ('classifier', MultinomialNB(alpha=1.0, class_prior=None, fit_prior=True))])"
      ]
     },
     "execution_count": 5,
     "metadata": {},
     "output_type": "execute_result"
    }
   ],
   "source": [
    "nb_pipeline.fit(train.Tweet, train.Party)"
   ]
  },
  {
   "cell_type": "code",
   "execution_count": 6,
   "metadata": {},
   "outputs": [
    {
     "name": "stdout",
     "output_type": "stream",
     "text": [
      "Accuracy: 0.7434\n"
     ]
    }
   ],
   "source": [
    "preds = nb_pipeline.predict(test.Tweet)\n",
    "print('Accuracy: {}'.format(str(round(accuracy_score(test.Party, preds), 4))))"
   ]
  },
  {
   "cell_type": "code",
   "execution_count": 7,
   "metadata": {},
   "outputs": [],
   "source": [
    "import time"
   ]
  },
  {
   "cell_type": "code",
   "execution_count": 18,
   "metadata": {},
   "outputs": [
    {
     "name": "stdout",
     "output_type": "stream",
     "text": [
      "---------------------------------------------\n",
      "     P A R T Y       C L A S S I F I E R     \n",
      "---------------------------------------------\n",
      "Enter 'q' to quit.\n",
      "Topics to talk about: net neutrality, Trump, immigration, guns\n",
      ">>\n",
      ":: Trump is really great, protecting our borders!\n",
      "Classification:\n",
      "Republican\n",
      ">>\n",
      ":: Trump is a lousy, unfit president for our country. Horrible, bad!\n",
      "Classification:\n",
      "Democrat\n",
      ">>\n",
      ":: Trump is attacking our liberties, separating families and being racist!\n",
      "Classification:\n",
      "Democrat\n",
      ">>\n",
      ":: Trump is fighting for our gun rights, preserving our liberties, and keeping our borders & country safe!\n",
      "Classification:\n",
      "Republican\n",
      ">>\n",
      ":: q\n"
     ]
    }
   ],
   "source": [
    "print(\"---------------------------------------------\")\n",
    "print(\"     P A R T Y       C L A S S I F I E R     \")\n",
    "print(\"---------------------------------------------\")\n",
    "print(\"Enter 'q' to quit.\")\n",
    "print(\"Topics to talk about: net neutrality, Trump, immigration, guns\")\n",
    "print(\">>\")\n",
    "while True:\n",
    "    time.sleep(0.7)\n",
    "    series = pd.Series([input(\":: \")])\n",
    "    if series[0] == 'q':\n",
    "        break\n",
    "    print(\"Classification:\")\n",
    "    print(nb_pipeline.predict(series)[0])\n",
    "    print(\">>\")"
   ]
  },
  {
   "cell_type": "code",
   "execution_count": null,
   "metadata": {},
   "outputs": [],
   "source": []
  }
 ],
 "metadata": {
  "kernelspec": {
   "display_name": "Python 3",
   "language": "python",
   "name": "python3"
  },
  "language_info": {
   "codemirror_mode": {
    "name": "ipython",
    "version": 3
   },
   "file_extension": ".py",
   "mimetype": "text/x-python",
   "name": "python",
   "nbconvert_exporter": "python",
   "pygments_lexer": "ipython3",
   "version": "3.7.1"
  }
 },
 "nbformat": 4,
 "nbformat_minor": 2
}
